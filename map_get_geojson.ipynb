{
 "cells": [
  {
   "cell_type": "code",
   "execution_count": 25,
   "metadata": {},
   "outputs": [],
   "source": [
    "import requests, json, numpy, datetime\n",
    "import pywren\n",
    "import boto3\n",
    "import numpy as np\n",
    "from pyproj import Proj\n",
    "import warnings\n",
    "warnings.filterwarnings('ignore')"
   ]
  },
  {
   "cell_type": "code",
   "execution_count": 32,
   "metadata": {},
   "outputs": [],
   "source": [
    "BUCKET = 'mapping-disaster-risk'\n",
    "\n",
    "GEOJSONS = ['train-borde_rural.geojson', 'train-borde_soacha.geojson',\n",
    "            'train-castries.geojson', 'train-dennery.geojson',\n",
    "            'train-gros_islet.geojson', 'train-mixco_1_and_ebenezer.geojson',\n",
    "            'train-mixco_3.geojson']\n",
    "\n",
    "TIFS = ['borde_rural_ortho-cog.tif', 'borde_soacha_ortho-cog.tif',\n",
    "        'castries_ortho-cog.tif', 'dennery_ortho-cog.tif',\n",
    "        'gros_islet_ortho-cog.tif', 'mixco_1_and_ebenezer_ortho-cog.tif',\n",
    "        'mixco_3_ortho-cog.tif']\n",
    "\n",
    "tif_list = [{'tif':\"borde_rural_ortho-cog.tif\",\n",
    "    'crs': 'epsg:32618',\n",
    "    'geojson': 'train-borde_rural.geojson',\n",
    "    'output': 'colombia_rural_zonal.csv'},\n",
    "    {'tif':\"borde_soacha_ortho-cog.tif\",\n",
    "    'crs': 'epsg:32618',\n",
    "    'geojson':'train-borde_soacha.geojson',\n",
    "    'output': 'colombia_soacha_zonal.csv'},\n",
    "    {'tif':\"mixco_1_and_ebenezer_ortho-cog.tif\",\n",
    "    'crs': 'epsg:32616',\n",
    "    'geojson': 'train-mixco_1_and_ebenezer.geojson',\n",
    "    'output': 'guatemala_mixco_1_zonal.csv'},\n",
    "    {'tif':\"mixco_3_ortho-cog.tif\",\n",
    "    'crs': 'epsg:32616',\n",
    "    'geojson': 'train-mixco_3.geojson',\n",
    "    'output': 'guatemala_mixco_3_zonal.csv'},\n",
    "    {'tif':\"castries_ortho-cog.tif\",\n",
    "    'crs': 'epsg:32620',\n",
    "    'geojson': 'train-castries.geojson',\n",
    "    'output': 'stlucia_castries_zonal.csv'},\n",
    "    {'tif':\"dennery_ortho-cog.tif\",\n",
    "    'crs': 'epsg:32620',\n",
    "    'geojson': 'train-dennery.geojson',\n",
    "    'output': 'stlucia_dennery_zonal.csv'},\n",
    "    {'tif':\"gros_islet_ortho-cog.tif\",\n",
    "    'crs': 'epsg:32620',\n",
    "    'geojson': 'train-gros_islet.geojson',\n",
    "    'output': 'stlucia_gros_islet_zonal.csv'}]"
   ]
  },
  {
   "cell_type": "code",
   "execution_count": null,
   "metadata": {},
   "outputs": [],
   "source": [
    "# Note that all geojsonn names are the object names as well, so to access an object call:\n",
    "# https://mapping-disaster-risk.s3.amazonaws.com/train-borde_rural.geojson"
   ]
  },
  {
   "cell_type": "code",
   "execution_count": 30,
   "metadata": {},
   "outputs": [],
   "source": [
    "# Step 1: Get all geojsons and create new footprint dictionaries\n",
    "def get_geojsons(dictionary):\n",
    "    '''\n",
    "    Given a full geojson dictionary, extracts relevant information for each\n",
    "    building, including type, building id, roof material, and coordinates.\n",
    "    Returns a list of dictionaries, where each dictionary maps a building by\n",
    "    these features.\n",
    "   \n",
    "    Input:\n",
    "        geojson (str): name of geojson dictionary\n",
    "    \n",
    "    Output:\n",
    "        polygons (lst): a list of dictionaries (one per building)\n",
    "    '''\n",
    "    geojson = dictionary['geojson']\n",
    "    tif = dictionary['tif']\n",
    "    crs = dictionary['crs']\n",
    "    output = dictionary['output']\n",
    "\n",
    "    try:\n",
    "        s3 = boto3.client('s3', 'us-east-1')\n",
    "        obj = s3.get_object(Bucket='mapping-disaster-risk', Key=geojson)\n",
    "        geo_json = json.load(obj['Body'])\n",
    "        polygons = []\n",
    "        for feature in geo_json['features']:\n",
    "            polygon = {}\n",
    "            polygon['type'] = feature['geometry']\n",
    "            polygon['bid'] = feature['id']\n",
    "            polygon['roof_material'] = feature['properties']['roof_material']\n",
    "            polygon['coordinates'] = feature['geometry']['coordinates']\n",
    "            polygon['geojson'] = geojson\n",
    "            polygon['tif'] = tif\n",
    "            polygon['crs'] = crs\n",
    "            polygon['output'] = output\n",
    "            polygons.append(polygon)\n",
    "    except Exception as e:\n",
    "        return e\n",
    "\n",
    "    return polygons"
   ]
  },
  {
   "cell_type": "code",
   "execution_count": 20,
   "metadata": {},
   "outputs": [],
   "source": [
    "def transform_coordinates(polygon_list):\n",
    "    '''\n",
    "    Given building footprints, executes an affine transformation on each\n",
    "    coordinate pair to output a new coordinate pair based on a provided\n",
    "    coordinate reference system (crs) from the corresponding geotiff file.\n",
    "    \n",
    "    Input:\n",
    "        polygon_list (lst): one dictionary footprint per building\n",
    "\n",
    "    Output:\n",
    "        updated_polygons (lst): a list of dictionaries (one per building)\n",
    "    '''\n",
    "\n",
    "    geojson = polygon_list[0]['geojson']\n",
    "    crs = polygon_list[0]['crs']\n",
    "    tif = polygon_list[0]['tif']\n",
    "    transform = Proj(init=crs)\n",
    "\n",
    "    updated_polygons = []\n",
    "    for polygon in polygon_list:\n",
    "        for coordinates_list in polygon['coordinates']:\n",
    "            inner_coord_list = []\n",
    "            for coordinate in coordinates_list:\n",
    "                transformed_coordinate = list(transform(coordinate[0],\n",
    "                                                        coordinate[1]))\n",
    "                inner_coord_list.append(transformed_coordinate)        \n",
    "            polygon['coordinates'] = inner_coord_list\n",
    "            updated_polygon_list.append(polygon)\n",
    "\n",
    "    return updated_polygons"
   ]
  },
  {
   "cell_type": "code",
   "execution_count": null,
   "metadata": {},
   "outputs": [],
   "source": [
    "def get_tif():\n",
    "    pass"
   ]
  },
  {
   "cell_type": "code",
   "execution_count": null,
   "metadata": {},
   "outputs": [],
   "source": [
    "def get_rooftop_array_after_mask():\n",
    "    pass"
   ]
  },
  {
   "cell_type": "code",
   "execution_count": null,
   "metadata": {},
   "outputs": [],
   "source": [
    "def convert_grayscale():\n",
    "    pass"
   ]
  },
  {
   "cell_type": "code",
   "execution_count": null,
   "metadata": {},
   "outputs": [],
   "source": [
    "def crop_center():\n",
    "    pass"
   ]
  },
  {
   "cell_type": "code",
   "execution_count": null,
   "metadata": {},
   "outputs": [],
   "source": [
    "def calculate_zonal_stats():\n",
    "    pass"
   ]
  },
  {
   "cell_type": "code",
   "execution_count": null,
   "metadata": {},
   "outputs": [],
   "source": [
    "def build_df():\n",
    "    pass"
   ]
  },
  {
   "cell_type": "code",
   "execution_count": 33,
   "metadata": {},
   "outputs": [],
   "source": [
    "# Obtain footprint dictionaries\n",
    "# Returns a list of lists, where each list are polygons for one .tif file\n",
    "pwex = pywren.default_executor()\n",
    "futures = pwex.map(get_geojsons, tif_list)\n",
    "polygons = pywren.get_all_results(futures)"
   ]
  },
  {
   "cell_type": "code",
   "execution_count": 22,
   "metadata": {},
   "outputs": [
    {
     "ename": "ModuleNotFoundError",
     "evalue": "No module named 'pyproj'",
     "output_type": "error",
     "traceback": [
      "\u001b[0;31m---------------------------------------------------------------------------\u001b[0m",
      "\u001b[0;31mModuleNotFoundError\u001b[0m                       Traceback (most recent call last)",
      "\u001b[0;32m<ipython-input-22-8d0a03812ed3>\u001b[0m in \u001b[0;36m<module>\u001b[0;34m\u001b[0m\n\u001b[1;32m      1\u001b[0m \u001b[0mpolygon_futures\u001b[0m \u001b[0;34m=\u001b[0m \u001b[0mpwex\u001b[0m\u001b[0;34m.\u001b[0m\u001b[0mmap\u001b[0m\u001b[0;34m(\u001b[0m\u001b[0mtransform_coordinates\u001b[0m\u001b[0;34m,\u001b[0m \u001b[0mpolygons\u001b[0m\u001b[0;34m)\u001b[0m\u001b[0;34m\u001b[0m\u001b[0;34m\u001b[0m\u001b[0m\n\u001b[0;32m----> 2\u001b[0;31m \u001b[0mupdated_polygons\u001b[0m \u001b[0;34m=\u001b[0m \u001b[0mpywren\u001b[0m\u001b[0;34m.\u001b[0m\u001b[0mget_all_results\u001b[0m\u001b[0;34m(\u001b[0m\u001b[0mpolygon_futures\u001b[0m\u001b[0;34m)\u001b[0m\u001b[0;34m\u001b[0m\u001b[0;34m\u001b[0m\u001b[0m\n\u001b[0m",
      "\u001b[0;32m/opt/anaconda3/lib/python3.7/site-packages/pywren/wren.py\u001b[0m in \u001b[0;36mget_all_results\u001b[0;34m(fs)\u001b[0m\n\u001b[1;32m    117\u001b[0m     \"\"\"\n\u001b[1;32m    118\u001b[0m     \u001b[0mwait\u001b[0m\u001b[0;34m(\u001b[0m\u001b[0mfs\u001b[0m\u001b[0;34m,\u001b[0m \u001b[0mreturn_when\u001b[0m\u001b[0;34m=\u001b[0m\u001b[0mALL_COMPLETED\u001b[0m\u001b[0;34m)\u001b[0m\u001b[0;34m\u001b[0m\u001b[0;34m\u001b[0m\u001b[0m\n\u001b[0;32m--> 119\u001b[0;31m     \u001b[0;32mreturn\u001b[0m \u001b[0;34m[\u001b[0m\u001b[0mf\u001b[0m\u001b[0;34m.\u001b[0m\u001b[0mresult\u001b[0m\u001b[0;34m(\u001b[0m\u001b[0;34m)\u001b[0m \u001b[0;32mfor\u001b[0m \u001b[0mf\u001b[0m \u001b[0;32min\u001b[0m \u001b[0mfs\u001b[0m\u001b[0;34m]\u001b[0m\u001b[0;34m\u001b[0m\u001b[0;34m\u001b[0m\u001b[0m\n\u001b[0m",
      "\u001b[0;32m/opt/anaconda3/lib/python3.7/site-packages/pywren/wren.py\u001b[0m in \u001b[0;36m<listcomp>\u001b[0;34m(.0)\u001b[0m\n\u001b[1;32m    117\u001b[0m     \"\"\"\n\u001b[1;32m    118\u001b[0m     \u001b[0mwait\u001b[0m\u001b[0;34m(\u001b[0m\u001b[0mfs\u001b[0m\u001b[0;34m,\u001b[0m \u001b[0mreturn_when\u001b[0m\u001b[0;34m=\u001b[0m\u001b[0mALL_COMPLETED\u001b[0m\u001b[0;34m)\u001b[0m\u001b[0;34m\u001b[0m\u001b[0;34m\u001b[0m\u001b[0m\n\u001b[0;32m--> 119\u001b[0;31m     \u001b[0;32mreturn\u001b[0m \u001b[0;34m[\u001b[0m\u001b[0mf\u001b[0m\u001b[0;34m.\u001b[0m\u001b[0mresult\u001b[0m\u001b[0;34m(\u001b[0m\u001b[0;34m)\u001b[0m \u001b[0;32mfor\u001b[0m \u001b[0mf\u001b[0m \u001b[0;32min\u001b[0m \u001b[0mfs\u001b[0m\u001b[0;34m]\u001b[0m\u001b[0;34m\u001b[0m\u001b[0;34m\u001b[0m\u001b[0m\n\u001b[0m",
      "\u001b[0;32m/opt/anaconda3/lib/python3.7/site-packages/pywren/future.py\u001b[0m in \u001b[0;36mresult\u001b[0;34m(self, timeout, check_only, throw_except, storage_handler)\u001b[0m\n\u001b[1;32m    146\u001b[0m         \u001b[0;32mif\u001b[0m \u001b[0mself\u001b[0m\u001b[0;34m.\u001b[0m\u001b[0m_state\u001b[0m \u001b[0;34m==\u001b[0m \u001b[0mJobState\u001b[0m\u001b[0;34m.\u001b[0m\u001b[0merror\u001b[0m\u001b[0;34m:\u001b[0m\u001b[0;34m\u001b[0m\u001b[0;34m\u001b[0m\u001b[0m\n\u001b[1;32m    147\u001b[0m             \u001b[0;32mif\u001b[0m \u001b[0mthrow_except\u001b[0m\u001b[0;34m:\u001b[0m\u001b[0;34m\u001b[0m\u001b[0;34m\u001b[0m\u001b[0m\n\u001b[0;32m--> 148\u001b[0;31m                 \u001b[0;32mraise\u001b[0m \u001b[0mself\u001b[0m\u001b[0;34m.\u001b[0m\u001b[0m_exception\u001b[0m\u001b[0;34m\u001b[0m\u001b[0;34m\u001b[0m\u001b[0m\n\u001b[0m\u001b[1;32m    149\u001b[0m             \u001b[0;32melse\u001b[0m\u001b[0;34m:\u001b[0m\u001b[0;34m\u001b[0m\u001b[0;34m\u001b[0m\u001b[0m\n\u001b[1;32m    150\u001b[0m                 \u001b[0;32mreturn\u001b[0m \u001b[0;32mNone\u001b[0m\u001b[0;34m\u001b[0m\u001b[0;34m\u001b[0m\u001b[0m\n",
      "\u001b[0;31mModuleNotFoundError\u001b[0m: No module named 'pyproj'"
     ]
    }
   ],
   "source": [
    "# Transform coordinates\n",
    "polygon_futures = pwex.map(transform_coordinates, polygons)\n",
    "updated_polygons = pywren.get_all_results(polygon_futures)"
   ]
  },
  {
   "cell_type": "code",
   "execution_count": 16,
   "metadata": {},
   "outputs": [
    {
     "data": {
      "text/plain": [
       "<pywren.future.ResponseFuture at 0x110e2b450>"
      ]
     },
     "execution_count": 16,
     "metadata": {},
     "output_type": "execute_result"
    }
   ],
   "source": [
    "updated_polygons[0]"
   ]
  },
  {
   "cell_type": "code",
   "execution_count": null,
   "metadata": {},
   "outputs": [],
   "source": []
  }
 ],
 "metadata": {
  "hide_input": false,
  "kernelspec": {
   "display_name": "Python 3",
   "language": "python",
   "name": "python3"
  },
  "language_info": {
   "codemirror_mode": {
    "name": "ipython",
    "version": 3
   },
   "file_extension": ".py",
   "mimetype": "text/x-python",
   "name": "python",
   "nbconvert_exporter": "python",
   "pygments_lexer": "ipython3",
   "version": "3.7.4"
  }
 },
 "nbformat": 4,
 "nbformat_minor": 4
}
