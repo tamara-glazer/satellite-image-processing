{
 "cells": [
  {
   "cell_type": "code",
   "execution_count": 30,
   "metadata": {},
   "outputs": [],
   "source": [
    "import requests, json, numpy, datetime\n",
    "import pywren\n",
    "import boto3\n",
    "import numpy as np"
   ]
  },
  {
   "cell_type": "code",
   "execution_count": 77,
   "metadata": {},
   "outputs": [],
   "source": [
    "GEOJSONS = ['train-borde_rural.geojson', 'train-borde_soacha.geojson',\n",
    "            'train-castries.geojson', 'train-dennery.geojson',\n",
    "            'train-gros_islet.geojson', 'train-mixco_1_and_ebenezer.geojson',\n",
    "            'train-mixco_3.geojson']"
   ]
  },
  {
   "cell_type": "code",
   "execution_count": 81,
   "metadata": {},
   "outputs": [],
   "source": [
    "BUCKET = 'mapping-disaster-risk'\n",
    "\n",
    "TIFS = ['borde_rural_ortho-cog.tif', 'borde_soacha_ortho-cog.tif',\n",
    "        'castries_ortho-cog.tif', 'dennery_ortho-cog.tif',\n",
    "        'gros_islet_ortho-cog.tif', 'mixco_1_and_ebenezer_ortho-cog.tif',\n",
    "        'mixco_3_ortho-cog.tif']\n",
    "\n",
    "# Note that all geojsonn names are the object names as well, so to access \n",
    "# call: https://mapping-disaster-risk.s3.amazonaws.com/train-borde_rural.geojson"
   ]
  },
  {
   "cell_type": "code",
   "execution_count": 71,
   "metadata": {},
   "outputs": [],
   "source": [
    "# limited to a single name of geojson file passed in\n",
    "\n",
    "def get_geojsons(geojson):\n",
    "    '''\n",
    "    Load geojson, extract relevant information, return as a dictionary.\n",
    "    '''\n",
    "    try:\n",
    "        s3 = boto3.client('s3', 'us-east-1')\n",
    "#     results = []\n",
    "        obj = s3.get_object(Bucket='mapping-disaster-risk', Key=geojson)\n",
    "        geo_json = json.load(obj['Body'])\n",
    "    except Exception as e:\n",
    "        return e\n",
    "#     results.append(geo_json)\n",
    "\n",
    "    return geo_json"
   ]
  },
  {
   "cell_type": "code",
   "execution_count": 78,
   "metadata": {},
   "outputs": [],
   "source": [
    "pwex = pywren.default_executor()\n",
    "futures = pwex.map(get_geojsons, GEOJSONS)"
   ]
  },
  {
   "cell_type": "code",
   "execution_count": 79,
   "metadata": {},
   "outputs": [],
   "source": [
    "geojsons = pywren.get_all_results(futures)"
   ]
  },
  {
   "cell_type": "code",
   "execution_count": 83,
   "metadata": {},
   "outputs": [],
   "source": [
    "# geojsons[0]"
   ]
  },
  {
   "cell_type": "code",
   "execution_count": null,
   "metadata": {},
   "outputs": [],
   "source": []
  }
 ],
 "metadata": {
  "hide_input": false,
  "kernelspec": {
   "display_name": "Python 3",
   "language": "python",
   "name": "python3"
  },
  "language_info": {
   "codemirror_mode": {
    "name": "ipython",
    "version": 3
   },
   "file_extension": ".py",
   "mimetype": "text/x-python",
   "name": "python",
   "nbconvert_exporter": "python",
   "pygments_lexer": "ipython3",
   "version": "3.7.4"
  }
 },
 "nbformat": 4,
 "nbformat_minor": 4
}
