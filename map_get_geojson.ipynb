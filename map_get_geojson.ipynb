{
 "cells": [
  {
   "cell_type": "code",
   "execution_count": 10,
   "metadata": {},
   "outputs": [],
   "source": [
    "import requests, json, numpy, datetime\n",
    "import pywren\n",
    "import boto3\n",
    "import numpy as np\n",
    "from pyproj import Proj\n",
    "import warnings\n",
    "from rasterio.mask import mask\n",
    "import rasterio\n",
    "warnings.filterwarnings('ignore')"
   ]
  },
  {
   "cell_type": "code",
   "execution_count": 3,
   "metadata": {},
   "outputs": [],
   "source": [
    "# Leaving this here if needed: https://medium.com/@jenoyamma/how-to-install-python-packages-for-aws-lambda-layer-74e193c76a91\n",
    "BUCKET = 'mapping-disaster-risk'\n",
    "\n",
    "GEOJSONS = ['train-borde_rural.geojson', 'train-borde_soacha.geojson',\n",
    "            'train-castries.geojson', 'train-dennery.geojson',\n",
    "            'train-gros_islet.geojson', 'train-mixco_1_and_ebenezer.geojson',\n",
    "            'train-mixco_3.geojson']\n",
    "\n",
    "TIFS = ['borde_rural_ortho-cog.tif', 'borde_soacha_ortho-cog.tif',\n",
    "        'castries_ortho-cog.tif', 'dennery_ortho-cog.tif',\n",
    "        'gros_islet_ortho-cog.tif', 'mixco_1_and_ebenezer_ortho-cog.tif',\n",
    "        'mixco_3_ortho-cog.tif']\n",
    "\n",
    "tif_list = [{'tif':\"borde_rural_ortho-cog.tif\",\n",
    "    'crs': 'epsg:32618',\n",
    "    'geojson': 'train-borde_rural.geojson',\n",
    "    'output': 'colombia_rural_zonal.csv'},\n",
    "    {'tif':\"borde_soacha_ortho-cog.tif\",\n",
    "    'crs': 'epsg:32618',\n",
    "    'geojson':'train-borde_soacha.geojson',\n",
    "    'output': 'colombia_soacha_zonal.csv'},\n",
    "    {'tif':\"mixco_1_and_ebenezer_ortho-cog.tif\",\n",
    "    'crs': 'epsg:32616',\n",
    "    'geojson': 'train-mixco_1_and_ebenezer.geojson',\n",
    "    'output': 'guatemala_mixco_1_zonal.csv'},\n",
    "    {'tif':\"mixco_3_ortho-cog.tif\",\n",
    "    'crs': 'epsg:32616',\n",
    "    'geojson': 'train-mixco_3.geojson',\n",
    "    'output': 'guatemala_mixco_3_zonal.csv'},\n",
    "    {'tif':\"castries_ortho-cog.tif\",\n",
    "    'crs': 'epsg:32620',\n",
    "    'geojson': 'train-castries.geojson',\n",
    "    'output': 'stlucia_castries_zonal.csv'},\n",
    "    {'tif':\"dennery_ortho-cog.tif\",\n",
    "    'crs': 'epsg:32620',\n",
    "    'geojson': 'train-dennery.geojson',\n",
    "    'output': 'stlucia_dennery_zonal.csv'},\n",
    "    {'tif':\"gros_islet_ortho-cog.tif\",\n",
    "    'crs': 'epsg:32620',\n",
    "    'geojson': 'train-gros_islet.geojson',\n",
    "    'output': 'stlucia_gros_islet_zonal.csv'}]"
   ]
  },
  {
   "cell_type": "code",
   "execution_count": null,
   "metadata": {},
   "outputs": [],
   "source": [
    "# Note that all geojsonn names are the object names as well, so to access an object call:\n",
    "# https://mapping-disaster-risk.s3.amazonaws.com/train-borde_rural.geojson"
   ]
  },
  {
   "cell_type": "code",
   "execution_count": 4,
   "metadata": {},
   "outputs": [],
   "source": [
    "# Step 1: Get all geojsons and create new footprint dictionaries\n",
    "def get_geojsons(dictionary):\n",
    "    '''\n",
    "    Given a full geojson dictionary, extracts relevant information for each\n",
    "    building, including type, building id, roof material, and coordinates.\n",
    "    Returns a list of dictionaries, where each dictionary maps a building by\n",
    "    these features.\n",
    "   \n",
    "    Input:\n",
    "        geojson (str): name of geojson dictionary\n",
    "    \n",
    "    Output:\n",
    "        polygons (lst): a list of dictionaries (one per building)\n",
    "    '''\n",
    "    geojson = dictionary['geojson']\n",
    "    tif = dictionary['tif']\n",
    "    crs = dictionary['crs']\n",
    "    output = dictionary['output']\n",
    "\n",
    "    try:\n",
    "        s3 = boto3.client('s3', 'us-east-1')\n",
    "        obj = s3.get_object(Bucket='mapping-disaster-risk', Key=geojson)\n",
    "        geo_json = json.load(obj['Body'])\n",
    "        polygons = []\n",
    "        for feature in geo_json['features']:\n",
    "            polygon = {}\n",
    "            polygon['type'] = feature['geometry']\n",
    "            polygon['bid'] = feature['id']\n",
    "            polygon['roof_material'] = feature['properties']['roof_material']\n",
    "            polygon['coordinates'] = feature['geometry']['coordinates']\n",
    "            polygon['geojson'] = geojson\n",
    "            polygon['tif'] = tif\n",
    "            polygon['crs'] = crs\n",
    "            polygon['output'] = output\n",
    "            polygons.append(polygon)\n",
    "    except Exception as e:\n",
    "        return e\n",
    "\n",
    "    return polygons"
   ]
  },
  {
   "cell_type": "code",
   "execution_count": 5,
   "metadata": {},
   "outputs": [],
   "source": [
    "def transform_coordinates(list_polygon_list):\n",
    "    '''\n",
    "    Given building footprints, executes an affine transformation on each\n",
    "    coordinate pair to output a new coordinate pair based on a provided\n",
    "    coordinate reference system (crs) from the corresponding geotiff file.\n",
    "    Serial since Proj is not natively installed on Lambda.\n",
    "    \n",
    "    Input:\n",
    "        polygon_list (lst): one dictionary footprint per building\n",
    "\n",
    "    Output:\n",
    "        updated_polygons (lst): a list of dictionaries (one per building)\n",
    "    '''\n",
    "    final_lst = []\n",
    "    for polygon_list in list_polygon_list:\n",
    "        geojson = polygon_list[0]['geojson']\n",
    "        crs = polygon_list[0]['crs']\n",
    "        tif = polygon_list[0]['tif']\n",
    "        transform = Proj(init=crs)\n",
    "\n",
    "        updated_polygons = []\n",
    "        for polygon in polygon_list:\n",
    "            for coordinates_list in polygon['coordinates']:\n",
    "                inner_coord_list = []\n",
    "                for coordinate in coordinates_list:\n",
    "                    transformed_coordinate = list(transform(coordinate[0],\n",
    "                                                            coordinate[1]))\n",
    "                    inner_coord_list.append(transformed_coordinate)        \n",
    "                polygon['coordinates'] = inner_coord_list\n",
    "                updated_polygons.append(polygon)\n",
    "        final_lst.append(updated_polygons)\n",
    "\n",
    "    return final_lst"
   ]
  },
  {
   "cell_type": "code",
   "execution_count": 6,
   "metadata": {},
   "outputs": [],
   "source": [
    "def get_rooftop_array_after_mask(URL, polygons):\n",
    "    '''\n",
    "    Given a dictionary containing transformed coordinates for one roof,\n",
    "    returns an array of arrays, each one providing a numeric value for each\n",
    "    pixel in the image for a specific band (in this case, 4 matrices for 4\n",
    "    bands).\n",
    "    Eg. Values from 0-255 correspond with the color scale.\n",
    "    Input:\n",
    "        tiff_path (str): path to the tif file\n",
    "        polygon (dict): a dictionary of features including coordinates for a\n",
    "                        single building\n",
    "    Output:\n",
    "        out_image (numpy array): a numpy of values per pixel for each\n",
    "                                 band (one per image layer)\n",
    "    '''\n",
    "    with rasterio.open(URL) as tiff:\n",
    "        rv = pd.DataFrame()\n",
    "        for polygon in polygons:\n",
    "            \n",
    "            try:\n",
    "                brick, out_transform = mask(tiff, [polygon], crop=True)\n",
    "                c, y, x = brick.shape\n",
    "\n",
    "                # Crop the center of the image\n",
    "                startx = x//2 - 60//2\n",
    "                starty = y//2 - 60//2\n",
    "                brick = brick[:3, starty:starty+60, startx:startx+60]\n",
    "\n",
    "                # Calculate Zonal Stats Per Band\n",
    "                df = pd.DataFrame()\n",
    "                for i in range(brick.shape[0] - 1):\n",
    "                    df[i] = pd.Series(np.median(img[i]))\n",
    "                    df['roof'] = polygon['roof_material']\n",
    "                    df.set_index('roof', inplace=True)     \n",
    "                rv = pd.concat([rv, df])\n",
    "\n",
    "            except Exception as e:\n",
    "                 print(e)\n",
    "\n",
    "    return rv # Returns a dataframe"
   ]
  },
  {
   "cell_type": "code",
   "execution_count": null,
   "metadata": {},
   "outputs": [],
   "source": [
    "def get_rooftop_array_after_mask():\n",
    "    pass"
   ]
  },
  {
   "cell_type": "code",
   "execution_count": null,
   "metadata": {},
   "outputs": [],
   "source": [
    "def convert_grayscale():\n",
    "    pass"
   ]
  },
  {
   "cell_type": "code",
   "execution_count": null,
   "metadata": {},
   "outputs": [],
   "source": [
    "def crop_center():\n",
    "    pass"
   ]
  },
  {
   "cell_type": "code",
   "execution_count": null,
   "metadata": {},
   "outputs": [],
   "source": [
    "def calculate_zonal_stats():\n",
    "    pass"
   ]
  },
  {
   "cell_type": "code",
   "execution_count": null,
   "metadata": {},
   "outputs": [],
   "source": [
    "def build_df():\n",
    "    pass"
   ]
  },
  {
   "cell_type": "code",
   "execution_count": 7,
   "metadata": {},
   "outputs": [],
   "source": [
    "# Obtain footprint dictionaries\n",
    "# Returns a list of lists, where each list are polygons for one .tif file\n",
    "pwex = pywren.default_executor()\n",
    "futures = pwex.map(get_geojsons, tif_list)\n",
    "polygons = pywren.get_all_results(futures)"
   ]
  },
  {
   "cell_type": "code",
   "execution_count": 8,
   "metadata": {},
   "outputs": [],
   "source": [
    "# Transform coordinates (note: serial since Proj cannot easily be used with Lambda)\n",
    "new_polygons = transform_coordinates(polygons)"
   ]
  },
  {
   "cell_type": "code",
   "execution_count": 12,
   "metadata": {},
   "outputs": [
    {
     "ename": "RasterioIOError",
     "evalue": "'/vsicurl/https://mapping-disaster-risk.s3.amazonaws.com/borde_rural_ortho-cog.tif' not recognized as a supported file format.",
     "output_type": "error",
     "traceback": [
      "\u001b[0;31m---------------------------------------------------------------------------\u001b[0m",
      "\u001b[0;31mCPLE_OpenFailedError\u001b[0m                      Traceback (most recent call last)",
      "\u001b[0;32mrasterio/_base.pyx\u001b[0m in \u001b[0;36mrasterio._base.DatasetBase.__init__\u001b[0;34m()\u001b[0m\n",
      "\u001b[0;32mrasterio/_shim.pyx\u001b[0m in \u001b[0;36mrasterio._shim.open_dataset\u001b[0;34m()\u001b[0m\n",
      "\u001b[0;32mrasterio/_err.pyx\u001b[0m in \u001b[0;36mrasterio._err.exc_wrap_pointer\u001b[0;34m()\u001b[0m\n",
      "\u001b[0;31mCPLE_OpenFailedError\u001b[0m: '/vsicurl/https://mapping-disaster-risk.s3.amazonaws.com/borde_rural_ortho-cog.tif' not recognized as a supported file format.",
      "\nDuring handling of the above exception, another exception occurred:\n",
      "\u001b[0;31mRasterioIOError\u001b[0m                           Traceback (most recent call last)",
      "\u001b[0;32m<ipython-input-12-3401f95574a5>\u001b[0m in \u001b[0;36m<module>\u001b[0;34m\u001b[0m\n\u001b[0;32m----> 1\u001b[0;31m \u001b[0;32mwith\u001b[0m \u001b[0mrasterio\u001b[0m\u001b[0;34m.\u001b[0m\u001b[0mopen\u001b[0m\u001b[0;34m(\u001b[0m\u001b[0;34m'https://mapping-disaster-risk.s3.amazonaws.com/borde_rural_ortho-cog.tif'\u001b[0m\u001b[0;34m)\u001b[0m \u001b[0;32mas\u001b[0m \u001b[0mtiff\u001b[0m\u001b[0;34m:\u001b[0m\u001b[0;34m\u001b[0m\u001b[0;34m\u001b[0m\u001b[0m\n\u001b[0m\u001b[1;32m      2\u001b[0m     \u001b[0mprint\u001b[0m\u001b[0;34m(\u001b[0m\u001b[0;34m'hi'\u001b[0m\u001b[0;34m)\u001b[0m\u001b[0;34m\u001b[0m\u001b[0;34m\u001b[0m\u001b[0m\n",
      "\u001b[0;32m/opt/anaconda3/lib/python3.7/site-packages/rasterio/env.py\u001b[0m in \u001b[0;36mwrapper\u001b[0;34m(*args, **kwds)\u001b[0m\n\u001b[1;32m    431\u001b[0m \u001b[0;34m\u001b[0m\u001b[0m\n\u001b[1;32m    432\u001b[0m         \u001b[0;32mwith\u001b[0m \u001b[0menv_ctor\u001b[0m\u001b[0;34m(\u001b[0m\u001b[0msession\u001b[0m\u001b[0;34m=\u001b[0m\u001b[0msession\u001b[0m\u001b[0;34m)\u001b[0m\u001b[0;34m:\u001b[0m\u001b[0;34m\u001b[0m\u001b[0;34m\u001b[0m\u001b[0m\n\u001b[0;32m--> 433\u001b[0;31m             \u001b[0;32mreturn\u001b[0m \u001b[0mf\u001b[0m\u001b[0;34m(\u001b[0m\u001b[0;34m*\u001b[0m\u001b[0margs\u001b[0m\u001b[0;34m,\u001b[0m \u001b[0;34m**\u001b[0m\u001b[0mkwds\u001b[0m\u001b[0;34m)\u001b[0m\u001b[0;34m\u001b[0m\u001b[0;34m\u001b[0m\u001b[0m\n\u001b[0m\u001b[1;32m    434\u001b[0m \u001b[0;34m\u001b[0m\u001b[0m\n\u001b[1;32m    435\u001b[0m     \u001b[0;32mreturn\u001b[0m \u001b[0mwrapper\u001b[0m\u001b[0;34m\u001b[0m\u001b[0;34m\u001b[0m\u001b[0m\n",
      "\u001b[0;32m/opt/anaconda3/lib/python3.7/site-packages/rasterio/__init__.py\u001b[0m in \u001b[0;36mopen\u001b[0;34m(fp, mode, driver, width, height, count, crs, transform, dtype, nodata, sharing, **kwargs)\u001b[0m\n\u001b[1;32m    216\u001b[0m         \u001b[0;31m# None.\u001b[0m\u001b[0;34m\u001b[0m\u001b[0;34m\u001b[0m\u001b[0;34m\u001b[0m\u001b[0m\n\u001b[1;32m    217\u001b[0m         \u001b[0;32mif\u001b[0m \u001b[0mmode\u001b[0m \u001b[0;34m==\u001b[0m \u001b[0;34m'r'\u001b[0m\u001b[0;34m:\u001b[0m\u001b[0;34m\u001b[0m\u001b[0;34m\u001b[0m\u001b[0m\n\u001b[0;32m--> 218\u001b[0;31m             \u001b[0ms\u001b[0m \u001b[0;34m=\u001b[0m \u001b[0mDatasetReader\u001b[0m\u001b[0;34m(\u001b[0m\u001b[0mpath\u001b[0m\u001b[0;34m,\u001b[0m \u001b[0mdriver\u001b[0m\u001b[0;34m=\u001b[0m\u001b[0mdriver\u001b[0m\u001b[0;34m,\u001b[0m \u001b[0msharing\u001b[0m\u001b[0;34m=\u001b[0m\u001b[0msharing\u001b[0m\u001b[0;34m,\u001b[0m \u001b[0;34m**\u001b[0m\u001b[0mkwargs\u001b[0m\u001b[0;34m)\u001b[0m\u001b[0;34m\u001b[0m\u001b[0;34m\u001b[0m\u001b[0m\n\u001b[0m\u001b[1;32m    219\u001b[0m         \u001b[0;32melif\u001b[0m \u001b[0mmode\u001b[0m \u001b[0;34m==\u001b[0m \u001b[0;34m\"r+\"\u001b[0m\u001b[0;34m:\u001b[0m\u001b[0;34m\u001b[0m\u001b[0;34m\u001b[0m\u001b[0m\n\u001b[1;32m    220\u001b[0m             s = get_writer_for_path(path, driver=driver)(\n",
      "\u001b[0;32mrasterio/_base.pyx\u001b[0m in \u001b[0;36mrasterio._base.DatasetBase.__init__\u001b[0;34m()\u001b[0m\n",
      "\u001b[0;31mRasterioIOError\u001b[0m: '/vsicurl/https://mapping-disaster-risk.s3.amazonaws.com/borde_rural_ortho-cog.tif' not recognized as a supported file format."
     ]
    }
   ],
   "source": [
    "with rasterio.open('https://mapping-disaster-risk.s3.amazonaws.com/borde_rural_ortho-cog.tif') as tiff:\n",
    "    print('hi')\n"
   ]
  },
  {
   "cell_type": "code",
   "execution_count": null,
   "metadata": {},
   "outputs": [],
   "source": []
  }
 ],
 "metadata": {
  "hide_input": false,
  "kernelspec": {
   "display_name": "Python 3",
   "language": "python",
   "name": "python3"
  },
  "language_info": {
   "codemirror_mode": {
    "name": "ipython",
    "version": 3
   },
   "file_extension": ".py",
   "mimetype": "text/x-python",
   "name": "python",
   "nbconvert_exporter": "python",
   "pygments_lexer": "ipython3",
   "version": "3.7.6"
  }
 },
 "nbformat": 4,
 "nbformat_minor": 4
}
