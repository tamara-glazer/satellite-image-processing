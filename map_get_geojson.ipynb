{
 "cells": [
  {
   "cell_type": "code",
   "execution_count": 25,
   "metadata": {},
   "outputs": [],
   "source": [
    "import requests, json, numpy, datetime\n",
    "import pywren\n",
    "import boto3\n",
    "import numpy as np\n",
    "from pyproj import Proj\n",
    "import warnings\n",
    "warnings.filterwarnings('ignore')"
   ]
  },
  {
   "cell_type": "code",
   "execution_count": 32,
   "metadata": {},
   "outputs": [],
   "source": [
    "BUCKET = 'mapping-disaster-risk'\n",
    "\n",
    "GEOJSONS = ['train-borde_rural.geojson', 'train-borde_soacha.geojson',\n",
    "            'train-castries.geojson', 'train-dennery.geojson',\n",
    "            'train-gros_islet.geojson', 'train-mixco_1_and_ebenezer.geojson',\n",
    "            'train-mixco_3.geojson']\n",
    "\n",
    "TIFS = ['borde_rural_ortho-cog.tif', 'borde_soacha_ortho-cog.tif',\n",
    "        'castries_ortho-cog.tif', 'dennery_ortho-cog.tif',\n",
    "        'gros_islet_ortho-cog.tif', 'mixco_1_and_ebenezer_ortho-cog.tif',\n",
    "        'mixco_3_ortho-cog.tif']\n",
    "\n",
    "tif_list = [{'tif':\"borde_rural_ortho-cog.tif\",\n",
    "    'crs': 'epsg:32618',\n",
    "    'geojson': 'train-borde_rural.geojson',\n",
    "    'output': 'colombia_rural_zonal.csv'},\n",
    "    {'tif':\"borde_soacha_ortho-cog.tif\",\n",
    "    'crs': 'epsg:32618',\n",
    "    'geojson':'train-borde_soacha.geojson',\n",
    "    'output': 'colombia_soacha_zonal.csv'},\n",
    "    {'tif':\"mixco_1_and_ebenezer_ortho-cog.tif\",\n",
    "    'crs': 'epsg:32616',\n",
    "    'geojson': 'train-mixco_1_and_ebenezer.geojson',\n",
    "    'output': 'guatemala_mixco_1_zonal.csv'},\n",
    "    {'tif':\"mixco_3_ortho-cog.tif\",\n",
    "    'crs': 'epsg:32616',\n",
    "    'geojson': 'train-mixco_3.geojson',\n",
    "    'output': 'guatemala_mixco_3_zonal.csv'},\n",
    "    {'tif':\"castries_ortho-cog.tif\",\n",
    "    'crs': 'epsg:32620',\n",
    "    'geojson': 'train-castries.geojson',\n",
    "    'output': 'stlucia_castries_zonal.csv'},\n",
    "    {'tif':\"dennery_ortho-cog.tif\",\n",
    "    'crs': 'epsg:32620',\n",
    "    'geojson': 'train-dennery.geojson',\n",
    "    'output': 'stlucia_dennery_zonal.csv'},\n",
    "    {'tif':\"gros_islet_ortho-cog.tif\",\n",
    "    'crs': 'epsg:32620',\n",
    "    'geojson': 'train-gros_islet.geojson',\n",
    "    'output': 'stlucia_gros_islet_zonal.csv'}]"
   ]
  },
  {
   "cell_type": "code",
   "execution_count": null,
   "metadata": {},
   "outputs": [],
   "source": [
    "# Note that all geojsonn names are the object names as well, so to access an object call:\n",
    "# https://mapping-disaster-risk.s3.amazonaws.com/train-borde_rural.geojson"
   ]
  },
  {
   "cell_type": "code",
   "execution_count": 30,
   "metadata": {},
   "outputs": [],
   "source": [
    "# Step 1: Get all geojsons and create new footprint dictionaries\n",
    "def get_geojsons(dictionary):\n",
    "    '''\n",
    "    Given a full geojson dictionary, extracts relevant information for each\n",
    "    building, including type, building id, roof material, and coordinates.\n",
    "    Returns a list of dictionaries, where each dictionary maps a building by\n",
    "    these features.\n",
    "   \n",
    "    Input:\n",
    "        geojson (str): name of geojson dictionary\n",
    "    \n",
    "    Output:\n",
    "        polygons (lst): a list of dictionaries (one per building)\n",
    "    '''\n",
    "    geojson = dictionary['geojson']\n",
    "    tif = dictionary['tif']\n",
    "    crs = dictionary['crs']\n",
    "    output = dictionary['output']\n",
    "\n",
    "    try:\n",
    "        s3 = boto3.client('s3', 'us-east-1')\n",
    "        obj = s3.get_object(Bucket='mapping-disaster-risk', Key=geojson)\n",
    "        geo_json = json.load(obj['Body'])\n",
    "        polygons = []\n",
    "        for feature in geo_json['features']:\n",
    "            polygon = {}\n",
    "            polygon['type'] = feature['geometry']\n",
    "            polygon['bid'] = feature['id']\n",
    "            polygon['roof_material'] = feature['properties']['roof_material']\n",
    "            polygon['coordinates'] = feature['geometry']['coordinates']\n",
    "            polygon['geojson'] = geojson\n",
    "            polygon['tif'] = tif\n",
    "            polygon['crs'] = crs\n",
    "            polygon['output'] = output\n",
    "            polygons.append(polygon)\n",
    "    except Exception as e:\n",
    "        return e\n",
    "\n",
    "    return polygons"
   ]
  },
  {
   "cell_type": "code",
   "execution_count": 64,
   "metadata": {},
   "outputs": [],
   "source": [
    "def transform_coordinates(list_polygon_list):\n",
    "    '''\n",
    "    Given building footprints, executes an affine transformation on each\n",
    "    coordinate pair to output a new coordinate pair based on a provided\n",
    "    coordinate reference system (crs) from the corresponding geotiff file.\n",
    "    Serial since Proj is not natively installed on Lambda.\n",
    "    \n",
    "    Input:\n",
    "        polygon_list (lst): one dictionary footprint per building\n",
    "\n",
    "    Output:\n",
    "        updated_polygons (lst): a list of dictionaries (one per building)\n",
    "    '''\n",
    "    final_lst = []\n",
    "    for polygon_list in list_polygon_list:\n",
    "        geojson = polygon_list[0]['geojson']\n",
    "        crs = polygon_list[0]['crs']\n",
    "        tif = polygon_list[0]['tif']\n",
    "        transform = Proj(init=crs)\n",
    "\n",
    "        updated_polygons = []\n",
    "        for polygon in polygon_list:\n",
    "            for coordinates_list in polygon['coordinates']:\n",
    "                inner_coord_list = []\n",
    "                for coordinate in coordinates_list:\n",
    "                    transformed_coordinate = list(transform(coordinate[0],\n",
    "                                                            coordinate[1]))\n",
    "                    inner_coord_list.append(transformed_coordinate)        \n",
    "                polygon['coordinates'] = inner_coord_list\n",
    "                updated_polygons.append(polygon)\n",
    "        final_lst.append(updated_polygons)\n",
    "\n",
    "    return final_lst"
   ]
  },
  {
   "cell_type": "code",
   "execution_count": null,
   "metadata": {},
   "outputs": [],
   "source": [
    "def get_tif():\n",
    "    pass"
   ]
  },
  {
   "cell_type": "code",
   "execution_count": null,
   "metadata": {},
   "outputs": [],
   "source": [
    "def get_rooftop_array_after_mask():\n",
    "    pass"
   ]
  },
  {
   "cell_type": "code",
   "execution_count": null,
   "metadata": {},
   "outputs": [],
   "source": [
    "def convert_grayscale():\n",
    "    pass"
   ]
  },
  {
   "cell_type": "code",
   "execution_count": null,
   "metadata": {},
   "outputs": [],
   "source": [
    "def crop_center():\n",
    "    pass"
   ]
  },
  {
   "cell_type": "code",
   "execution_count": null,
   "metadata": {},
   "outputs": [],
   "source": [
    "def calculate_zonal_stats():\n",
    "    pass"
   ]
  },
  {
   "cell_type": "code",
   "execution_count": null,
   "metadata": {},
   "outputs": [],
   "source": [
    "def build_df():\n",
    "    pass"
   ]
  },
  {
   "cell_type": "code",
   "execution_count": 66,
   "metadata": {},
   "outputs": [],
   "source": [
    "# Obtain footprint dictionaries\n",
    "# Returns a list of lists, where each list are polygons for one .tif file\n",
    "pwex = pywren.default_executor()\n",
    "futures = pwex.map(get_geojsons, tif_list)\n",
    "polygons = pywren.get_all_results(futures)"
   ]
  },
  {
   "cell_type": "code",
   "execution_count": 67,
   "metadata": {},
   "outputs": [],
   "source": [
    "# Transform coordinates (note: serial since Proj cannot easily be used with Lambda)\n",
    "new_polygons = transform_coordinates(polygons)"
   ]
  },
  {
   "cell_type": "code",
   "execution_count": null,
   "metadata": {},
   "outputs": [],
   "source": []
  }
 ],
 "metadata": {
  "hide_input": false,
  "kernelspec": {
   "display_name": "Python 3",
   "language": "python",
   "name": "python3"
  },
  "language_info": {
   "codemirror_mode": {
    "name": "ipython",
    "version": 3
   },
   "file_extension": ".py",
   "mimetype": "text/x-python",
   "name": "python",
   "nbconvert_exporter": "python",
   "pygments_lexer": "ipython3",
   "version": "3.7.6"
  }
 },
 "nbformat": 4,
 "nbformat_minor": 4
}
