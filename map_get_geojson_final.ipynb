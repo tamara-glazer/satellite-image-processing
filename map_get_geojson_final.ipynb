{
 "cells": [
  {
   "cell_type": "code",
   "execution_count": 1,
   "metadata": {},
   "outputs": [],
   "source": [
    "import requests, json, numpy, datetime\n",
    "import pywren\n",
    "import boto3\n",
    "import numpy as np\n",
    "from pyproj import Proj\n",
    "import warnings\n",
    "import rasterio\n",
    "from rasterio.mask import mask\n",
    "from rasterio.plot import show\n",
    "import pandas as pd\n",
    "from pandas.io.json import json_normalize\n",
    "import matplotlib.pyplot as plt\n",
    "warnings.filterwarnings('ignore')"
   ]
  },
  {
   "cell_type": "code",
   "execution_count": 2,
   "metadata": {},
   "outputs": [],
   "source": [
    "# Leaving this here if needed: https://medium.com/@jenoyamma/how-to-install-python-packages-for-aws-lambda-layer-74e193c76a91\n",
    "BUCKET = 'mapping-disaster-risk'\n",
    "\n",
    "GEOJSONS = ['train-borde_rural.geojson', 'train-borde_soacha.geojson',\n",
    "            'train-castries.geojson', 'train-dennery.geojson',\n",
    "            'train-gros_islet.geojson', 'train-mixco_1_and_ebenezer.geojson',\n",
    "            'train-mixco_3.geojson']\n",
    "\n",
    "TIFS = ['borde_rural_ortho-cog.tif', 'borde_soacha_ortho-cog.tif',\n",
    "        'castries_ortho-cog.tif', 'dennery_ortho-cog.tif',\n",
    "        'gros_islet_ortho-cog.tif', 'mixco_1_and_ebenezer_ortho-cog.tif',\n",
    "        'mixco_3_ortho-cog.tif']\n",
    "\n",
    "tif_list = [{'tif':\"mixco_3_ortho-cog.tif\",\n",
    "    'crs': 'epsg:32616',\n",
    "    'geojson': 'train-mixco_3.geojson',\n",
    "    'output': 'guatemala_mixco_3_zonal.csv'}]\n",
    "\n"
   ]
  },
  {
   "cell_type": "code",
   "execution_count": 3,
   "metadata": {},
   "outputs": [],
   "source": [
    "# Note that all geojsonn names are the object names as well, so to access an object call:\n",
    "# https://mapping-disaster-risk.s3.amazonaws.com/train-borde_rural.geojson"
   ]
  },
  {
   "cell_type": "code",
   "execution_count": 99,
   "metadata": {},
   "outputs": [],
   "source": [
    "# Step 1: Get all geojsons and create new footprint dictionaries\n",
    "def get_geojsons(dictionary):\n",
    "    '''\n",
    "    Given a full geojson dictionary, extracts relevant information for each\n",
    "    building, including type, building id, roof material, and coordinates.\n",
    "    Returns a list of dictionaries, where each dictionary maps a building by\n",
    "    these features.\n",
    "   \n",
    "    Input:\n",
    "        geojson (str): name of geojson dictionary\n",
    "    \n",
    "    Output:\n",
    "        polygons (lst): a list of dictionaries (one per building)\n",
    "    '''\n",
    "    geojson = dictionary['geojson']\n",
    "    tif = dictionary['tif']\n",
    "    crs = dictionary['crs']\n",
    "    output = dictionary['output']\n",
    "\n",
    "    try:\n",
    "        s3 = boto3.client('s3', 'us-east-1')\n",
    "        obj = s3.get_object(Bucket='mapping-disaster-risk', Key=geojson)\n",
    "        geo_json = json.load(obj['Body'])\n",
    "\n",
    "    except Exception as e:\n",
    "        raise e\n",
    "\n",
    "    return geo_json"
   ]
  },
  {
   "cell_type": "code",
   "execution_count": 102,
   "metadata": {},
   "outputs": [],
   "source": [
    "# PARALLEL GET GEOJSONS\n",
    "pwex = pywren.default_executor()\n",
    "futures = pwex.map(get_geojsons, tif_list)"
   ]
  },
  {
   "cell_type": "code",
   "execution_count": 103,
   "metadata": {},
   "outputs": [],
   "source": [
    "all_geojsons = pywren.get_all_results(futures)"
   ]
  },
  {
   "cell_type": "code",
   "execution_count": 114,
   "metadata": {},
   "outputs": [],
   "source": [
    "# FROM UML PROJECT\n",
    "def make_polygons(geojson):\n",
    "    \n",
    "#     file_name = geojson['key']\n",
    "#     file = geojson['file']\n",
    "    polygons = []\n",
    "\n",
    "    for feature in geojson['features']:\n",
    "        polygon = {}\n",
    "        polygon['type'] = feature['geometry']['type']\n",
    "        polygon['bid'] = feature['id']\n",
    "        polygon['roof_material'] = feature['properties']['roof_material']\n",
    "        polygon['coordinates'] = feature['geometry']['coordinates']\n",
    "        polygons.append(polygon)\n",
    "\n",
    "    return polygons"
   ]
  },
  {
   "cell_type": "code",
   "execution_count": 115,
   "metadata": {},
   "outputs": [],
   "source": [
    "GEOS = ['train-borde_rural.geojson', 'train-borde_soacha.geojson',\n",
    "            'train-castries.geojson', 'train-dennery.geojson']"
   ]
  },
  {
   "cell_type": "code",
   "execution_count": 150,
   "metadata": {},
   "outputs": [],
   "source": [
    "# GET POLYGONS PARALLELIZED\n",
    "pwex = pywren.default_executor()\n",
    "futures = pwex.map(make_polygons, all_geojsons)\n",
    "all_polygons = pywren.get_all_results(futures)"
   ]
  },
  {
   "cell_type": "code",
   "execution_count": 152,
   "metadata": {},
   "outputs": [],
   "source": [
    "# FROM THE UML project\n",
    "def transform_coordinates_UML(polygon):\n",
    "    \n",
    "    transform = Proj(init='epsg:32616')\n",
    "    coordinates_lists = polygon['coordinates']\n",
    "    transformed_coordinates_lists = []\n",
    "    \n",
    "    for coordinates_list in coordinates_lists:\n",
    "        inner_coord_list = []\n",
    "        for coordinate in coordinates_list:\n",
    "            transformed_coordinate = list(transform(coordinate[0],\n",
    "                                                    coordinate[1]))\n",
    "            inner_coord_list.append(transformed_coordinate)\n",
    "        transformed_coordinates_lists.append(inner_coord_list)\n",
    "    \n",
    "    polygon['coordinates'] = transformed_coordinates_lists\n",
    "    \n",
    "    return polygon"
   ]
  },
  {
   "cell_type": "code",
   "execution_count": 153,
   "metadata": {},
   "outputs": [],
   "source": [
    "# TRYING TO PARALLEIZE TRANSFORM // DISCUSS WHAT WENT WRONG AND ISSUES WITH PYPROJ\n",
    "# pwex = pywren.default_executor()\n",
    "# futures = pwex.map(transform_coordinates_UML, polygons)"
   ]
  },
  {
   "cell_type": "code",
   "execution_count": 156,
   "metadata": {},
   "outputs": [],
   "source": [
    "# SERIALIZE TRANSFORM IF NECESSARY\n",
    "#     Given building footprints, executes an affine transformation on each\n",
    "#     coordinate pair to output a new coordinate pair based on a provided\n",
    "#     coordinate reference system (crs) from the corresponding geotiff file.\n",
    "#     Serial since Proj is not natively installed on Lambda.\n",
    "\n",
    "transformed_polygons = []\n",
    "\n",
    "for polygon in all_polygons[0]: # why is index on 0 necessary again?\n",
    "    transformed = transform_coordinates_UML(polygon)\n",
    "    transformed_polygons.append(transformed)"
   ]
  },
  {
   "cell_type": "code",
   "execution_count": 61,
   "metadata": {},
   "outputs": [],
   "source": [
    "# GETS THE IMAGE || UNCOMMENT TO MASK AWS AND GET IMAGE\n",
    "def get_rooftop_array_after_mask(polygon):\n",
    "    '''\n",
    "    Given a dictionary containing transformed coordinates for one roof,\n",
    "    returns an array of arrays, each one providing a numeric value for each\n",
    "    pixel in the image for a specific band (in this case, 4 matrices for 4\n",
    "    bands).\n",
    "    Eg. Values from 0-255 correspond with the color scale.\n",
    "    Input:\n",
    "        tiff_path (str): path to the tif file\n",
    "        polygon (dict): a dictionary of features including coordinates for a\n",
    "                        single building\n",
    "    Output:\n",
    "        out_image (numpy array): a numpy of values per pixel for each\n",
    "                                 band (one per image layer)\n",
    "    '''\n",
    "    \n",
    "    tiff_path = 'https://mapping-disaster-risk.s3.amazonaws.com/mixco_3_ortho-cog.tif'\n",
    "    with rasterio.open(tiff_path) as tiff:\n",
    "        try:\n",
    "            out_image, out_transform = mask(tiff, [polygon], crop=True)\n",
    "        except Exception as e:\n",
    "             pass\n",
    "        else:\n",
    "            return out_image"
   ]
  },
  {
   "cell_type": "code",
   "execution_count": 160,
   "metadata": {},
   "outputs": [],
   "source": [
    "# SERIAL MASKING\n",
    "\n",
    "image_list = []\n",
    "\n",
    "for polygon in transformed_polygons:\n",
    "    rv = {}\n",
    "    array = get_rooftop_array_after_mask(polygon)\n",
    "    rv['roof_material'] = polygon['roof_material']\n",
    "    rv['img_array'] = array\n",
    "    image_list.append(rv)\n",
    "        "
   ]
  },
  {
   "cell_type": "code",
   "execution_count": 163,
   "metadata": {},
   "outputs": [
    {
     "data": {
      "image/png": "[encoded data removed]",
      "text/plain": [
       "<Figure size 432x288 with 1 Axes>"
      ]
     },
     "metadata": {
      "needs_background": "light"
     },
     "output_type": "display_data"
    },
    {
     "data": {
      "text/plain": [
       "<matplotlib.axes._subplots.AxesSubplot at 0x1194405d0>"
      ]
     },
     "execution_count": 163,
     "metadata": {},
     "output_type": "execute_result"
    }
   ],
   "source": [
    "show(image_list[130]['img_array'])"
   ]
  },
  {
   "cell_type": "code",
   "execution_count": 178,
   "metadata": {},
   "outputs": [],
   "source": [
    "def get_zonals(roof_dict):\n",
    "    \n",
    "    material = roof_dict['roof_material']\n",
    "    roof = roof_dict['img_array']\n",
    "\n",
    "    zonal_list = []\n",
    "    for i in range(roof.shape[0] - 1):\n",
    "        zonal_list.append(np.median(roof[i]))\n",
    "\n",
    "    return {'material': material, 'stats': zonal_list}"
   ]
  },
  {
   "cell_type": "code",
   "execution_count": 193,
   "metadata": {},
   "outputs": [
    {
     "name": "stdout",
     "output_type": "stream",
     "text": [
      "CPU times: user 8.47 s, sys: 2.38 s, total: 10.9 s\n",
      "Wall time: 1min 1s\n"
     ]
    }
   ],
   "source": [
    "%%time\n",
    "# GET ZONALS BABY ROUND 2\n",
    "pwex = pywren.default_executor()\n",
    "future = pwex.map(get_zonals, image_list)\n",
    "all_zonals = pywren.get_all_results(future)"
   ]
  },
  {
   "cell_type": "code",
   "execution_count": 200,
   "metadata": {},
   "outputs": [],
   "source": []
  },
  {
   "cell_type": "code",
   "execution_count": 221,
   "metadata": {},
   "outputs": [],
   "source": []
  },
  {
   "cell_type": "code",
   "execution_count": null,
   "metadata": {},
   "outputs": [],
   "source": []
  },
  {
   "cell_type": "code",
   "execution_count": 227,
   "metadata": {},
   "outputs": [],
   "source": [
    "# INITIATE THE FIRST ROW OF THE DATAFRAME\n",
    "first_roof = all_zonals[0]\n",
    "df = json_normalize(first_roof)\n",
    "df2 = pd.DataFrame(df[\"stats\"].to_list(), columns = [\"band1\",\"band2\",\"band3\"])\n",
    "df3 = df['material']"
   ]
  },
  {
   "cell_type": "code",
   "execution_count": 225,
   "metadata": {},
   "outputs": [],
   "source": [
    "# BUILD THE FULL DATAFRAME WITH ZONAL STATS OF ALL POLYGONS IN A TIF\n",
    "vertical_stack = pd.concat([df3, df2], axis=1)\n",
    "for roof in all_zonals[1:]:\n",
    "    df = json_normalize(roof)\n",
    "    df2 = pd.DataFrame(df[\"stats\"].to_list(),\\\n",
    "                       columns = [\"band1\",\"band2\",\"band3\"])\n",
    "    df3 = df['material']\n",
    "    horizontal_stack = pd.concat([df3, df2], axis=1)\n",
    "    vertical_stack = pd.concat([vertical_stack, horizontal_stack], axis=0)\n",
    "    "
   ]
  },
  {
   "cell_type": "code",
   "execution_count": 226,
   "metadata": {},
   "outputs": [
    {
     "data": {
      "text/html": [
       "<div>\n",
       "<style scoped>\n",
       "    .dataframe tbody tr th:only-of-type {\n",
       "        vertical-align: middle;\n",
       "    }\n",
       "\n",
       "    .dataframe tbody tr th {\n",
       "        vertical-align: top;\n",
       "    }\n",
       "\n",
       "    .dataframe thead th {\n",
       "        text-align: right;\n",
       "    }\n",
       "</style>\n",
       "<table border=\"1\" class=\"dataframe\">\n",
       "  <thead>\n",
       "    <tr style=\"text-align: right;\">\n",
       "      <th></th>\n",
       "      <th>material</th>\n",
       "      <th>band1</th>\n",
       "      <th>band2</th>\n",
       "      <th>band3</th>\n",
       "    </tr>\n",
       "  </thead>\n",
       "  <tbody>\n",
       "    <tr>\n",
       "      <th>0</th>\n",
       "      <td>healthy_metal</td>\n",
       "      <td>156.0</td>\n",
       "      <td>167.0</td>\n",
       "      <td>170.0</td>\n",
       "    </tr>\n",
       "    <tr>\n",
       "      <th>0</th>\n",
       "      <td>healthy_metal</td>\n",
       "      <td>156.0</td>\n",
       "      <td>167.0</td>\n",
       "      <td>170.0</td>\n",
       "    </tr>\n",
       "    <tr>\n",
       "      <th>0</th>\n",
       "      <td>healthy_metal</td>\n",
       "      <td>157.0</td>\n",
       "      <td>160.0</td>\n",
       "      <td>161.0</td>\n",
       "    </tr>\n",
       "    <tr>\n",
       "      <th>0</th>\n",
       "      <td>healthy_metal</td>\n",
       "      <td>0.0</td>\n",
       "      <td>0.0</td>\n",
       "      <td>0.0</td>\n",
       "    </tr>\n",
       "    <tr>\n",
       "      <th>0</th>\n",
       "      <td>healthy_metal</td>\n",
       "      <td>190.0</td>\n",
       "      <td>192.0</td>\n",
       "      <td>190.0</td>\n",
       "    </tr>\n",
       "    <tr>\n",
       "      <th>...</th>\n",
       "      <td>...</td>\n",
       "      <td>...</td>\n",
       "      <td>...</td>\n",
       "      <td>...</td>\n",
       "    </tr>\n",
       "    <tr>\n",
       "      <th>0</th>\n",
       "      <td>healthy_metal</td>\n",
       "      <td>199.0</td>\n",
       "      <td>195.0</td>\n",
       "      <td>187.0</td>\n",
       "    </tr>\n",
       "    <tr>\n",
       "      <th>0</th>\n",
       "      <td>irregular_metal</td>\n",
       "      <td>103.0</td>\n",
       "      <td>84.0</td>\n",
       "      <td>70.0</td>\n",
       "    </tr>\n",
       "    <tr>\n",
       "      <th>0</th>\n",
       "      <td>irregular_metal</td>\n",
       "      <td>0.0</td>\n",
       "      <td>0.0</td>\n",
       "      <td>0.0</td>\n",
       "    </tr>\n",
       "    <tr>\n",
       "      <th>0</th>\n",
       "      <td>healthy_metal</td>\n",
       "      <td>0.0</td>\n",
       "      <td>0.0</td>\n",
       "      <td>0.0</td>\n",
       "    </tr>\n",
       "    <tr>\n",
       "      <th>0</th>\n",
       "      <td>healthy_metal</td>\n",
       "      <td>0.0</td>\n",
       "      <td>0.0</td>\n",
       "      <td>0.0</td>\n",
       "    </tr>\n",
       "  </tbody>\n",
       "</table>\n",
       "<p>159 rows × 4 columns</p>\n",
       "</div>"
      ],
      "text/plain": [
       "           material  band1  band2  band3\n",
       "0     healthy_metal  156.0  167.0  170.0\n",
       "0     healthy_metal  156.0  167.0  170.0\n",
       "0     healthy_metal  157.0  160.0  161.0\n",
       "0     healthy_metal    0.0    0.0    0.0\n",
       "0     healthy_metal  190.0  192.0  190.0\n",
       "..              ...    ...    ...    ...\n",
       "0     healthy_metal  199.0  195.0  187.0\n",
       "0   irregular_metal  103.0   84.0   70.0\n",
       "0   irregular_metal    0.0    0.0    0.0\n",
       "0     healthy_metal    0.0    0.0    0.0\n",
       "0     healthy_metal    0.0    0.0    0.0\n",
       "\n",
       "[159 rows x 4 columns]"
      ]
     },
     "execution_count": 226,
     "metadata": {},
     "output_type": "execute_result"
    }
   ],
   "source": [
    "vertical_stack"
   ]
  },
  {
   "cell_type": "code",
   "execution_count": null,
   "metadata": {},
   "outputs": [],
   "source": []
  }
 ],
 "metadata": {
  "hide_input": false,
  "kernelspec": {
   "display_name": "Python 3",
   "language": "python",
   "name": "python3"
  },
  "language_info": {
   "codemirror_mode": {
    "name": "ipython",
    "version": 3
   },
   "file_extension": ".py",
   "mimetype": "text/x-python",
   "name": "python",
   "nbconvert_exporter": "python",
   "pygments_lexer": "ipython3",
   "version": "3.7.4"
  }
 },
 "nbformat": 4,
 "nbformat_minor": 4
}
